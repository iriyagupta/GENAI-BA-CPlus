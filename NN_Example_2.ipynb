{
  "cells": [
    {
      "cell_type": "markdown",
      "metadata": {
        "id": "view-in-github",
        "colab_type": "text"
      },
      "source": [
        "<a href=\"https://colab.research.google.com/github/iriyagupta/GENAI-BA-CPlus/blob/main/NN_Example_2.ipynb\" target=\"_parent\"><img src=\"https://colab.research.google.com/assets/colab-badge.svg\" alt=\"Open In Colab\"/></a>"
      ]
    },
    {
      "cell_type": "markdown",
      "source": [
        "**Example 1 Code**"
      ],
      "metadata": {
        "id": "HE6NlavbraES"
      }
    },
    {
      "cell_type": "code",
      "execution_count": 58,
      "metadata": {
        "id": "7NDFtbVxkJG8"
      },
      "outputs": [],
      "source": [
        "import numpy as np\n",
        "X = np.array([  [0,0,1], #Since the first value is 0, the output value is 0\n",
        "                [0,1,1], #Since the first value is 0, the output value is 0\n",
        "                [1,0,1], #Since the first value is 1, the output value is 1\n",
        "                [1,1,1]  #Since the first value is 1, the output value is 1\n",
        "                ])\n",
        "y = np.array([[0,0,1,1]]).T #Output array\n",
        "\n",
        "def sigmoid(x,deriv=False):\n",
        "    if deriv:\n",
        "        return sigmoid(x)*(1-sigmoid(x))\n",
        "    return 1/(1+np.exp(-x))\n",
        "\n",
        "def run_net(X,y,activation_function=sigmoid,passes=10):\n",
        "    np.random.seed(1) #seed the random numbers\n",
        "    syn0 = 2*np.random.random((3,1)) - 1    #Calculate initial weights\n",
        "    for i in range(0,passes):\n",
        "        level_0 = X  #Input to the nn\n",
        "        level_1 = activation_function(np.dot(level_0,syn0)) #New weights\n",
        "        level_1_error = y - level_1 #error (note: y is 1/0; level_1 is (0,1))\n",
        "        #Get the derivative of the sigmoid (the change) and multiply by the error\n",
        "        level_1_delta = level_1_error * activation_function(level_1,True)\n",
        "        syn0 += np.dot(level_0.T,level_1_delta) #Update the weights (level_0 * deltas)\n",
        "    return syn0"
      ]
    },
    {
      "cell_type": "markdown",
      "source": [
        "**Training and testing inputs and outputs for Example 2**\n",
        "* We'll see how well our example 1 network does for example 2"
      ],
      "metadata": {
        "id": "YSyngx_8r76J"
      }
    },
    {
      "cell_type": "code",
      "execution_count": 59,
      "metadata": {
        "id": "54Rcdgl1kJG9"
      },
      "outputs": [],
      "source": [
        "import numpy as np\n",
        "#TRAINING INPUT\n",
        "X = np.array([\n",
        "    [0,0,1],\n",
        "    [0,1,1],\n",
        "    [1,0,1],\n",
        "    [1,1,1],\n",
        "    [1,1,0],\n",
        "    [0,1,0],\n",
        "    [1,0,0],\n",
        "    [1,0,0]])\n",
        "\n",
        "#TRAINING OUTPUT\n",
        "y = np.array([[0],[1],[1],[1],[1],[0],[0],[0]])\n",
        "\n",
        "#TESTING INPUT\n",
        "test_X = np.array([[1,1,1],[0,1,1],[1,0,0],[0,0,1]])\n",
        "\n",
        "#TESTING OUTPUT\n",
        "test_y = np.array([1,1,0,0])\n"
      ]
    },
    {
      "cell_type": "code",
      "source": [
        "#Train the network\n",
        "final_weights = run_net(X,y,sigmoid,10000)\n",
        "\n",
        "#Predict using the testing data\n",
        "probabilities = sigmoid(np.dot(test_X,final_weights))\n",
        "predictions = (probabilities > 0.5).reshape(len(test_y))\n",
        "accuracy = 1-(sum(abs(predictions-test_y)))/len(test_y)\n",
        "print(accuracy)\n",
        "print(test_y,predictions)"
      ],
      "metadata": {
        "colab": {
          "base_uri": "https://localhost:8080/"
        },
        "id": "uKN7369NspOy",
        "outputId": "45fe03de-4429-442d-e1e7-981462e92d0d"
      },
      "execution_count": 60,
      "outputs": [
        {
          "output_type": "stream",
          "name": "stdout",
          "text": [
            "0.75\n",
            "[1 1 0 0] [ True  True False  True]\n"
          ]
        }
      ]
    },
    {
      "cell_type": "markdown",
      "metadata": {
        "id": "egD1EcfCkJG9"
      },
      "source": [
        "**Not so good this time**"
      ]
    },
    {
      "cell_type": "markdown",
      "metadata": {
        "id": "bg9NqidDkJG9"
      },
      "source": [
        "* The pattern here is non-linear\n",
        "* Nonlinearities can be captured by adding layers to the network\n",
        "* We can try adding a hidden layer to our network\n"
      ]
    },
    {
      "cell_type": "markdown",
      "metadata": {
        "id": "YGvPdLy5kJG9"
      },
      "source": [
        "**Three layer network</h2>\n",
        "* Input layer: 3 nodes\n",
        "* Hidden layer: 4 nodes (the structure of the hidden layer is our choice)\n",
        "* Output: 1 node\n"
      ]
    },
    {
      "cell_type": "markdown",
      "metadata": {
        "id": "bwwJUwzNkJG9"
      },
      "source": [
        "**Initialize**\n",
        "* The network has two sets of weights\n",
        "* 1. set 1 between the input and the hidden layer\n",
        "* 2. set 2 between the hidden and the output layer\n",
        "*randomly assign weights at each level"
      ]
    },
    {
      "cell_type": "code",
      "execution_count": 47,
      "metadata": {
        "id": "bFZS4uLJkJHB"
      },
      "outputs": [],
      "source": [
        "syn0 = 2*np.random.random((3,4)) - 1\n",
        "syn1 = 2*np.random.random((4,1)) - 1\n"
      ]
    },
    {
      "cell_type": "markdown",
      "metadata": {
        "id": "93LwACcQkJHC"
      },
      "source": [
        "**feed forward network**\n",
        "* Calculate the node outputs at the hidden layer level\n",
        "* These become the inputs to the next layer (could be a hidden layer or, as in our case, the output layer)\n",
        "* In this way we can construct our **feed forward network**\n"
      ]
    },
    {
      "cell_type": "code",
      "execution_count": 48,
      "metadata": {
        "colab": {
          "base_uri": "https://localhost:8080/"
        },
        "id": "aeQ-cMQpkJHC",
        "outputId": "413c87b3-4b33-42fd-e3a0-61bfa96440db"
      },
      "outputs": [
        {
          "output_type": "execute_result",
          "data": {
            "text/plain": [
              "array([[0.5053376 ],\n",
              "       [0.50687089],\n",
              "       [0.51655106],\n",
              "       [0.51587768],\n",
              "       [0.46972561],\n",
              "       [0.45029194],\n",
              "       [0.46710261],\n",
              "       [0.46710261]])"
            ]
          },
          "metadata": {},
          "execution_count": 48
        }
      ],
      "source": [
        "level_0 = X\n",
        "level_1 = sigmoid(np.dot(level_0,syn0)) #Hidden layer values\n",
        "level_2 = sigmoid(np.dot(level_1,syn1)) #Output layer values (probabilities)\n",
        "level_2"
      ]
    },
    {
      "cell_type": "markdown",
      "metadata": {
        "id": "sv6W4xRLkJHC"
      },
      "source": [
        "**Backpropagation**\n",
        "* First calculate the error at the output layer (we know the true values)\n"
      ]
    },
    {
      "cell_type": "code",
      "execution_count": 49,
      "metadata": {
        "colab": {
          "base_uri": "https://localhost:8080/"
        },
        "id": "dK8Y9rbJkJHC",
        "outputId": "116015de-26a4-45d2-9132-879797829243"
      },
      "outputs": [
        {
          "output_type": "execute_result",
          "data": {
            "text/plain": [
              "array([[-0.5053376 ],\n",
              "       [ 0.49312911],\n",
              "       [ 0.48344894],\n",
              "       [ 0.48412232],\n",
              "       [ 0.53027439],\n",
              "       [-0.45029194],\n",
              "       [-0.46710261],\n",
              "       [-0.46710261]])"
            ]
          },
          "metadata": {},
          "execution_count": 49
        }
      ],
      "source": [
        "level_2_error = y - level_2\n",
        "level_2_error"
      ]
    },
    {
      "cell_type": "markdown",
      "source": [
        "* Then, calculate the change in weights using the derivative)\n",
        "* This step is similar to our no hidden layer neural network\n",
        "* level_2_delta is our change factor for the weights between the hidden layer and the output layer"
      ],
      "metadata": {
        "id": "QtS92-j3ICWV"
      }
    },
    {
      "cell_type": "code",
      "execution_count": 50,
      "metadata": {
        "colab": {
          "base_uri": "https://localhost:8080/"
        },
        "id": "pYJPDUjUkJHC",
        "outputId": "54c944bd-a60f-4b91-83dd-a501201419fd"
      },
      "outputs": [
        {
          "output_type": "execute_result",
          "data": {
            "text/plain": [
              "array([[-0.11860027],\n",
              "       [ 0.11569104],\n",
              "       [ 0.11314541],\n",
              "       [ 0.11332227],\n",
              "       [ 0.12551678],\n",
              "       [-0.10705403],\n",
              "       [-0.11063065],\n",
              "       [-0.11063065]])"
            ]
          },
          "metadata": {},
          "execution_count": 50
        }
      ],
      "source": [
        "level_2_delta = level_2_error*sigmoid(level_2,deriv=True)\n",
        "level_2_delta"
      ]
    },
    {
      "cell_type": "markdown",
      "metadata": {
        "id": "QTXypHq0kJHC"
      },
      "source": [
        "**Next, propagate the deltas back toward the input layer**\n",
        "* This step is tricky. We don't know what the true values of the hidden layer nodes are so we'll just use level_2_delta as a proxy for the error"
      ]
    },
    {
      "cell_type": "code",
      "execution_count": 51,
      "metadata": {
        "id": "6-xGodlAkJHC"
      },
      "outputs": [],
      "source": [
        "level_1_error = level_2_delta.dot(syn1.T)\n",
        "level_1_delta = level_1_error * sigmoid(level_1,deriv=True)"
      ]
    },
    {
      "cell_type": "markdown",
      "metadata": {
        "id": "XQfpDZIukJHC"
      },
      "source": [
        "**Calculate the new weights**\n",
        "* We have the deltas, we can calculate the new weights"
      ]
    },
    {
      "cell_type": "code",
      "execution_count": 52,
      "metadata": {
        "id": "FcQn5HR-kJHC"
      },
      "outputs": [],
      "source": [
        "syn1 += level_1.T.dot(level_2_delta)\n",
        "syn0 += level_0.T.dot(level_1_delta)"
      ]
    },
    {
      "cell_type": "markdown",
      "metadata": {
        "id": "V_Ox__HPkJHC"
      },
      "source": [
        "**Putting it all together**"
      ]
    },
    {
      "cell_type": "code",
      "execution_count": 63,
      "metadata": {
        "id": "rQwMHePzkJHC"
      },
      "outputs": [],
      "source": [
        "def sigmoid(x,deriv=False):\n",
        "    if deriv:\n",
        "        return x*(1-x)\n",
        "    return 1/(1+np.exp(-x))\n",
        "\n",
        "def run_net(X,y,activation_function=sigmoid,passes=10):\n",
        "    import time\n",
        "    np.random.seed(1)\n",
        "    syn0 = 2*np.random.random((3,4)) - 1\n",
        "    syn1 = 2*np.random.random((4,1)) - 1\n",
        "\n",
        "    for i in range(passes):\n",
        "        level_0 = X\n",
        "        level_1 = activation_function(np.dot(level_0,syn0))\n",
        "        level_2 = activation_function(np.dot(level_1,syn1))\n",
        "\n",
        "        level_2_error = y - level_2\n",
        "\n",
        "        level_2_delta = level_2_error*activation_function(level_2,deriv=True)\n",
        "\n",
        "        level_1_error = level_2_delta.dot(syn1.T)\n",
        "\n",
        "        level_1_delta = level_1_error * activation_function(level_1,deriv=True)\n",
        "\n",
        "        syn1 += level_1.T.dot(level_2_delta)\n",
        "        syn0 += level_0.T.dot(level_1_delta)\n",
        "    return syn0,syn1"
      ]
    },
    {
      "cell_type": "code",
      "execution_count": 64,
      "metadata": {
        "id": "J9yTso1mkJHC"
      },
      "outputs": [],
      "source": [
        "syn0,syn1 = run_net(X,y,activation_function=sigmoid,passes=100)\n"
      ]
    },
    {
      "cell_type": "markdown",
      "metadata": {
        "id": "6OE-cjtDkJHC"
      },
      "source": [
        "**Applying the net to test cases**\n"
      ]
    },
    {
      "cell_type": "code",
      "execution_count": null,
      "metadata": {
        "colab": {
          "base_uri": "https://localhost:8080/"
        },
        "id": "mimyjHRfkJHD",
        "outputId": "1d138689-6189-49e0-9acc-1f8c8765c1e2"
      },
      "outputs": [
        {
          "output_type": "execute_result",
          "data": {
            "text/plain": [
              "array([[1, 1, 1],\n",
              "       [0, 1, 1],\n",
              "       [1, 0, 0],\n",
              "       [0, 0, 1]])"
            ]
          },
          "metadata": {},
          "execution_count": 41
        }
      ],
      "source": [
        "test_X"
      ]
    },
    {
      "cell_type": "code",
      "execution_count": 65,
      "metadata": {
        "colab": {
          "base_uri": "https://localhost:8080/"
        },
        "id": "i3eZ1_DzkJHD",
        "outputId": "e6922ffc-59cf-460b-e3ae-c2ef32050240"
      },
      "outputs": [
        {
          "output_type": "stream",
          "name": "stdout",
          "text": [
            "1.0\n",
            "[1 1 0 0] [ True  True False False]\n"
          ]
        }
      ],
      "source": [
        "level_0 = test_X\n",
        "level_1 = sigmoid(np.dot(level_0,syn0))\n",
        "level_2 = sigmoid(np.dot(level_1,syn1))\n",
        "predictions = (level_2 > 0.5).reshape(len(test_y))\n",
        "accuracy = 1-(sum(abs(predictions-test_y)))/len(test_y)\n",
        "print(accuracy)\n",
        "print(test_y,predictions)"
      ]
    },
    {
      "cell_type": "markdown",
      "metadata": {
        "id": "szR-ZqIvkJHD"
      },
      "source": [
        "**In Summary**\n",
        "* By adding more hidden layers, the net can find patterns in higher dimensions\n",
        "* However, as we make the network more complex, the computational power required increases because both feed forward as well as back propagation will be multiplying increasingly larger matrices\n",
        "* But, because computing power has become cheap, and more accessible thanks to GPUs, neural networks are transforming AI\n"
      ]
    },
    {
      "cell_type": "code",
      "execution_count": null,
      "metadata": {
        "id": "t7iDaP6IkJHD"
      },
      "outputs": [],
      "source": []
    }
  ],
  "metadata": {
    "kernelspec": {
      "display_name": "Python 3 (ipykernel)",
      "language": "python",
      "name": "python3"
    },
    "language_info": {
      "codemirror_mode": {
        "name": "ipython",
        "version": 3
      },
      "file_extension": ".py",
      "mimetype": "text/x-python",
      "name": "python",
      "nbconvert_exporter": "python",
      "pygments_lexer": "ipython3",
      "version": "3.9.7"
    },
    "colab": {
      "provenance": [],
      "include_colab_link": true
    }
  },
  "nbformat": 4,
  "nbformat_minor": 0
}