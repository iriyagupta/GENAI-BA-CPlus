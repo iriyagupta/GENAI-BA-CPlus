{
  "nbformat": 4,
  "nbformat_minor": 0,
  "metadata": {
    "colab": {
      "provenance": [],
      "authorship_tag": "ABX9TyMlPTLUeBOcpCzQMezu5Dtg",
      "include_colab_link": true
    },
    "kernelspec": {
      "name": "python3",
      "display_name": "Python 3"
    },
    "language_info": {
      "name": "python"
    }
  },
  "cells": [
    {
      "cell_type": "markdown",
      "metadata": {
        "id": "view-in-github",
        "colab_type": "text"
      },
      "source": [
        "<a href=\"https://colab.research.google.com/github/iriyagupta/GENAI-BA-CPlus/blob/main/RNN.ipynb\" target=\"_parent\"><img src=\"https://colab.research.google.com/assets/colab-badge.svg\" alt=\"Open In Colab\"/></a>"
      ]
    },
    {
      "cell_type": "markdown",
      "source": [
        "\n",
        "\n",
        "```\n",
        "# This is formatted as code\n",
        "```\n",
        "\n",
        "**Recurrent Neural Network Example**\n",
        "* Data: a series of 1000 numbers\n",
        "* Learn: the next number in the series"
      ],
      "metadata": {
        "id": "WQN3WG3C862u"
      }
    },
    {
      "cell_type": "markdown",
      "source": [
        "**Recurrent Neural Networks**\n",
        "* Data in an RNN is fed sequentially\n",
        "* Each successive element in the sequence is called a \"timestep\"\n",
        "* For example, if our data is textual and we have 1000 sentences in the data:\n",
        "** the sample size is 1000\n",
        "** the number of features is 1\n",
        "** the timestep size is the length of the longest sentence\n",
        "* Data for an RNN must contain both features as well as timesteps"
      ],
      "metadata": {
        "id": "XkhJlzBx5OGl"
      }
    },
    {
      "cell_type": "code",
      "source": [],
      "metadata": {
        "id": "2Tt-P7jmlXTa"
      },
      "execution_count": null,
      "outputs": []
    },
    {
      "cell_type": "markdown",
      "source": [
        "**Example: Arithmetic sequence**\n",
        "* An arithmetic sequence with a difference of 2 is 1, 3, 5, 7, ......\n",
        "* Input data to the RNN will consist of subsequence of size n. For n = 4:\n",
        "** 1, 3, 5, 7 => 9\n",
        "** 3, 5, 7, 9 => 11\n",
        "** 5, 7, 9, 11 => 13\n",
        "** Each sequence has 4 numbers, each number is fed separately, therefore:\n",
        "** timesteps = 4\n",
        "** features = 1"
      ],
      "metadata": {
        "id": "CkYiu1Pj9oWe"
      }
    },
    {
      "cell_type": "markdown",
      "source": [
        "## **Imports**"
      ],
      "metadata": {
        "id": "5M4B756D-StM"
      }
    },
    {
      "cell_type": "code",
      "execution_count": 1,
      "metadata": {
        "id": "ME1CWYjVwjjg"
      },
      "outputs": [],
      "source": [
        "import pandas as pd\n",
        "import numpy as np\n",
        "import matplotlib.pyplot as plt\n",
        "from keras.models import Sequential\n",
        "from keras.layers import Dense, SimpleRNN\n",
        "from sklearn.model_selection import train_test_split"
      ]
    },
    {
      "cell_type": "markdown",
      "source": [
        "**Generate the data**\n",
        "* We'll generate an arithmetic sequence of 100000 numbers\n",
        "* difference between numbers = 3\n"
      ],
      "metadata": {
        "id": "7-duxj03-y0E"
      }
    },
    {
      "cell_type": "code",
      "source": [
        "start = 1\n",
        "diff = 3\n",
        "n = 100000\n",
        "progression = [start + diff*i for i in range (n)]\n",
        "progression[999]\n",
        "df = pd.DataFrame(progression)"
      ],
      "metadata": {
        "id": "Ko-KxEYC2icd"
      },
      "execution_count": 3,
      "outputs": []
    },
    {
      "cell_type": "markdown",
      "source": [
        "**Generate RNN input data**\n",
        "* We'll generate sequences of size k (k=8)\n",
        "* X = input data\n",
        "* y = output value (the sume of the input values)\n",
        "* Note that the data is organized as 1 feature and 8 timesteps"
      ],
      "metadata": {
        "id": "JetYmWrC--Ug"
      }
    },
    {
      "cell_type": "code",
      "source": [
        "def makeSequence(df, k):\n",
        "  X, y =[], []\n",
        "  for i in range(len(df)- k):\n",
        "    d=i+k\n",
        "    X.append(df.iloc[i:d,])\n",
        "    y.append(df.iloc[d,])\n",
        "  return np.array(X),np.array(y)\n",
        "\n",
        "X,y = makeSequence(df,8)"
      ],
      "metadata": {
        "id": "VmObj9vQ_aA5"
      },
      "execution_count": 4,
      "outputs": []
    },
    {
      "cell_type": "code",
      "source": [
        "X.shape"
      ],
      "metadata": {
        "colab": {
          "base_uri": "https://localhost:8080/"
        },
        "id": "QIToKi4JFhMf",
        "outputId": "c5a8ec91-291b-4223-81e1-8700f17df225"
      },
      "execution_count": 5,
      "outputs": [
        {
          "output_type": "execute_result",
          "data": {
            "text/plain": [
              "(99992, 8, 1)"
            ]
          },
          "metadata": {},
          "execution_count": 5
        }
      ]
    },
    {
      "cell_type": "code",
      "source": [
        "X[:2]"
      ],
      "metadata": {
        "colab": {
          "base_uri": "https://localhost:8080/"
        },
        "id": "lcR1qAVpZw7T",
        "outputId": "ac8e4af2-1608-44f9-a024-3a70933878d3"
      },
      "execution_count": null,
      "outputs": [
        {
          "output_type": "execute_result",
          "data": {
            "text/plain": [
              "array([[[ 1],\n",
              "        [ 4],\n",
              "        [ 7],\n",
              "        [10],\n",
              "        [13],\n",
              "        [16],\n",
              "        [19],\n",
              "        [22]],\n",
              "\n",
              "       [[ 4],\n",
              "        [ 7],\n",
              "        [10],\n",
              "        [13],\n",
              "        [16],\n",
              "        [19],\n",
              "        [22],\n",
              "        [25]]])"
            ]
          },
          "metadata": {},
          "execution_count": 55
        }
      ]
    },
    {
      "cell_type": "code",
      "source": [
        "y[:2]"
      ],
      "metadata": {
        "colab": {
          "base_uri": "https://localhost:8080/"
        },
        "id": "531iblEQZ1zy",
        "outputId": "b4f23a1f-f878-42ba-8632-f5a22a6e440f"
      },
      "execution_count": null,
      "outputs": [
        {
          "output_type": "execute_result",
          "data": {
            "text/plain": [
              "array([[25],\n",
              "       [28]])"
            ]
          },
          "metadata": {},
          "execution_count": 56
        }
      ]
    },
    {
      "cell_type": "markdown",
      "source": [
        "**Input shape**\n",
        "* RNNs require that the input shape be 3 dimensional\n",
        "* (samples, timesteps, features)\n",
        "* samples: the number of samples in the training data (length of X_train)\n",
        "* timesteps: The number of lookback periods\n"
      ],
      "metadata": {
        "id": "BwEQ82Uk_egT"
      }
    },
    {
      "cell_type": "code",
      "source": [
        "#Understanding timesteps\n",
        "\n",
        "#Assume our data is:\n",
        "x_demo = np.array([[1,2],[1,3],[2,3],[5,6],[3,4]])\n",
        "y_demo = np.array([3,4,5,11,7])\n",
        "\n",
        "#I.e., y(0) = x(0,0) + x(0,1)\n",
        "\n",
        "#But, we want y(t) to depend on x(t) and x(t-1)\n",
        "#We want to use two timesteps to determine y\n",
        "\n",
        "look_back = 2 #This step plus the previous step\n",
        "\n",
        "#Since we're looking at 2 timesteps, we're going to have one fewer data items\n",
        "num_samples = x_demo.shape[0]-look_back + 1\n",
        "num_features = 2 #The number of features at each timestep\n",
        "\n",
        "#Create empty arrays for x and y reshaped\n",
        "x_demo_reshaped = np.zeros((num_samples, look_back, num_features))\n",
        "y_demo_reshaped = np.zeros((num_samples))\n",
        "print(y_demo_reshaped)\n",
        "\n",
        "#Iterate through the data creating x(t-1) and x(t) data for each y\n",
        "for i in range(num_samples):\n",
        "    print(i)\n",
        "    y_position = i + look_back\n",
        "    x_demo_reshaped[i] = x_demo[i:y_position]\n",
        "    y_demo_reshaped[i] = y_demo[y_position-1]\n",
        "\n",
        "x_demo_reshaped,y_demo_reshaped,x_demo_reshaped.shape"
      ],
      "metadata": {
        "id": "W_mxudFldrQr",
        "colab": {
          "base_uri": "https://localhost:8080/"
        },
        "outputId": "9cda68dd-75e5-41f5-ab66-0a58ce71014a"
      },
      "execution_count": 6,
      "outputs": [
        {
          "output_type": "stream",
          "name": "stdout",
          "text": [
            "[0. 0. 0. 0.]\n",
            "0\n",
            "1\n",
            "2\n",
            "3\n"
          ]
        },
        {
          "output_type": "execute_result",
          "data": {
            "text/plain": [
              "(array([[[1., 2.],\n",
              "         [1., 3.]],\n",
              " \n",
              "        [[1., 3.],\n",
              "         [2., 3.]],\n",
              " \n",
              "        [[2., 3.],\n",
              "         [5., 6.]],\n",
              " \n",
              "        [[5., 6.],\n",
              "         [3., 4.]]]),\n",
              " array([ 4.,  5., 11.,  7.]),\n",
              " (4, 2, 2))"
            ]
          },
          "metadata": {},
          "execution_count": 6
        }
      ]
    },
    {
      "cell_type": "markdown",
      "source": [
        "**Train and test samples**\n",
        "* split the data into 70% training and 30% testing"
      ],
      "metadata": {
        "id": "cP20EULLgSul"
      }
    },
    {
      "cell_type": "code",
      "source": [
        "X_train, X_test, y_train, y_test = train_test_split(X, y, test_size=0.3, random_state=42)\n",
        "\n",
        "#Reshape input data to (samples, timesteps, features)\n",
        "#X_train = np.reshape(X_train, (X_train.shape[0], X_train.shape[1] ))\n",
        "#X_test = np.reshape(X_test, (X_test.shape[0], X_test.shape[1]))\n"
      ],
      "metadata": {
        "id": "OlbjgORg60-n"
      },
      "execution_count": 8,
      "outputs": []
    },
    {
      "cell_type": "code",
      "source": [
        "\n",
        "X_train.shape"
      ],
      "metadata": {
        "colab": {
          "base_uri": "https://localhost:8080/"
        },
        "id": "aGqyOSJs78Il",
        "outputId": "27752053-5de9-4d38-9616-f5d35d98b938"
      },
      "execution_count": 9,
      "outputs": [
        {
          "output_type": "execute_result",
          "data": {
            "text/plain": [
              "(69994, 8, 1)"
            ]
          },
          "metadata": {},
          "execution_count": 9
        }
      ]
    },
    {
      "cell_type": "code",
      "source": [
        "X_train[:2]"
      ],
      "metadata": {
        "id": "bRL0xZqTaIrG",
        "colab": {
          "base_uri": "https://localhost:8080/"
        },
        "outputId": "519be5a6-7986-462b-f01c-c17e96dcea03"
      },
      "execution_count": 10,
      "outputs": [
        {
          "output_type": "execute_result",
          "data": {
            "text/plain": [
              "array([[[118483],\n",
              "        [118486],\n",
              "        [118489],\n",
              "        [118492],\n",
              "        [118495],\n",
              "        [118498],\n",
              "        [118501],\n",
              "        [118504]],\n",
              "\n",
              "       [[ 90391],\n",
              "        [ 90394],\n",
              "        [ 90397],\n",
              "        [ 90400],\n",
              "        [ 90403],\n",
              "        [ 90406],\n",
              "        [ 90409],\n",
              "        [ 90412]]])"
            ]
          },
          "metadata": {},
          "execution_count": 10
        }
      ]
    },
    {
      "cell_type": "code",
      "source": [
        "y_train[:2]"
      ],
      "metadata": {
        "id": "ot8N_iIp29DC",
        "colab": {
          "base_uri": "https://localhost:8080/"
        },
        "outputId": "e64e04f8-9b72-45e5-fd37-1c9b0b61cd6f"
      },
      "execution_count": 11,
      "outputs": [
        {
          "output_type": "execute_result",
          "data": {
            "text/plain": [
              "array([[118507],\n",
              "       [ 90415]])"
            ]
          },
          "metadata": {},
          "execution_count": 11
        }
      ]
    },
    {
      "cell_type": "code",
      "source": [
        "# SimpleRNN model\n",
        "model = Sequential()\n",
        "\n",
        "#units = number of outputs from each RNN\n",
        "#Note that this refers to the hidden layer outputs not the final y\n",
        "model.add(SimpleRNN(units=32, input_shape=(8,1), activation=\"relu\"))\n",
        "model.add(Dense(8, activation=\"relu\"))\n",
        "\n",
        "#This last layer is the actual y output\n",
        "model.add(Dense(1))\n",
        "model.compile(loss='mean_squared_error', optimizer='rmsprop')\n",
        "model.summary()"
      ],
      "metadata": {
        "id": "wUMZ8gNQ0HFR",
        "colab": {
          "base_uri": "https://localhost:8080/"
        },
        "outputId": "ff7029d9-b7cf-4050-ec69-deef77cc4f6f"
      },
      "execution_count": 12,
      "outputs": [
        {
          "output_type": "stream",
          "name": "stdout",
          "text": [
            "Model: \"sequential\"\n",
            "_________________________________________________________________\n",
            " Layer (type)                Output Shape              Param #   \n",
            "=================================================================\n",
            " simple_rnn (SimpleRNN)      (None, 32)                1088      \n",
            "                                                                 \n",
            " dense (Dense)               (None, 8)                 264       \n",
            "                                                                 \n",
            " dense_1 (Dense)             (None, 1)                 9         \n",
            "                                                                 \n",
            "=================================================================\n",
            "Total params: 1361 (5.32 KB)\n",
            "Trainable params: 1361 (5.32 KB)\n",
            "Non-trainable params: 0 (0.00 Byte)\n",
            "_________________________________________________________________\n"
          ]
        }
      ]
    },
    {
      "cell_type": "markdown",
      "source": [
        "**Fit the training data to the model**\n",
        "* and get the predictions (training and testing)\n",
        "* and the mean squared error"
      ],
      "metadata": {
        "id": "kZR_8x9hG_5k"
      }
    },
    {
      "cell_type": "code",
      "source": [
        "model.fit(X_train,y_train, epochs=1000, batch_size=32, verbose=0)\n",
        "trainPredict = model.predict(X_train)\n",
        "testPredict= model.predict(X_test)\n",
        "predicted=np.concatenate((trainPredict,testPredict),axis=0)\n"
      ],
      "metadata": {
        "id": "Or4gXWz-0pjv",
        "colab": {
          "base_uri": "https://localhost:8080/"
        },
        "outputId": "2ec66133-a427-49e2-c2b8-027fc63326fe"
      },
      "execution_count": null,
      "outputs": [
        {
          "output_type": "stream",
          "name": "stdout",
          "text": [
            "2188/2188 [==============================] - 5s 2ms/step\n",
            "938/938 [==============================] - 2s 2ms/step\n"
          ]
        }
      ]
    },
    {
      "cell_type": "markdown",
      "source": [
        "**"
      ],
      "metadata": {
        "id": "g7Qx26H1HJxc"
      }
    },
    {
      "cell_type": "code",
      "source": [
        "trainScore = model.evaluate(X_train, y_train, verbose=0)\n",
        "testScore = model.evaluate(X_test,y_test,verbose=2)\n",
        "print(trainScore)\n",
        "print(testScore)"
      ],
      "metadata": {
        "id": "iwJQlIEo347i",
        "colab": {
          "base_uri": "https://localhost:8080/"
        },
        "outputId": "e1676dc6-b765-44f0-91d0-5f3f4521b541"
      },
      "execution_count": null,
      "outputs": [
        {
          "output_type": "stream",
          "name": "stdout",
          "text": [
            "938/938 - 2s - loss: 271061.3438 - 2s/epoch - 2ms/step\n",
            "274335.09375\n",
            "271061.34375\n"
          ]
        }
      ]
    },
    {
      "cell_type": "code",
      "source": [
        "model.predict(X_test)[:3]"
      ],
      "metadata": {
        "id": "pF0O9ec63F3V",
        "colab": {
          "base_uri": "https://localhost:8080/"
        },
        "outputId": "f154e6e9-35fb-496d-aae8-9d22cb1c3cb1"
      },
      "execution_count": null,
      "outputs": [
        {
          "output_type": "stream",
          "name": "stdout",
          "text": [
            "938/938 [==============================] - 2s 2ms/step\n"
          ]
        },
        {
          "output_type": "execute_result",
          "data": {
            "text/plain": [
              "array([[102228.25 ],\n",
              "       [ 68791.82 ],\n",
              "       [ 58546.055]], dtype=float32)"
            ]
          },
          "metadata": {},
          "execution_count": 63
        }
      ]
    },
    {
      "cell_type": "code",
      "source": [
        "X_test[:3]"
      ],
      "metadata": {
        "id": "rG2xxKeM3ijS",
        "colab": {
          "base_uri": "https://localhost:8080/"
        },
        "outputId": "686e33c3-1b64-49b8-b95c-d32fca064412"
      },
      "execution_count": null,
      "outputs": [
        {
          "output_type": "execute_result",
          "data": {
            "text/plain": [
              "array([[[101896],\n",
              "        [101899],\n",
              "        [101902],\n",
              "        [101905],\n",
              "        [101908],\n",
              "        [101911],\n",
              "        [101914],\n",
              "        [101917]],\n",
              "\n",
              "       [[ 68560],\n",
              "        [ 68563],\n",
              "        [ 68566],\n",
              "        [ 68569],\n",
              "        [ 68572],\n",
              "        [ 68575],\n",
              "        [ 68578],\n",
              "        [ 68581]],\n",
              "\n",
              "       [[ 58345],\n",
              "        [ 58348],\n",
              "        [ 58351],\n",
              "        [ 58354],\n",
              "        [ 58357],\n",
              "        [ 58360],\n",
              "        [ 58363],\n",
              "        [ 58366]]])"
            ]
          },
          "metadata": {},
          "execution_count": 64
        }
      ]
    },
    {
      "cell_type": "markdown",
      "source": [
        "**Our model doesn't do too well!**\n",
        "* RNNs require a lot of training\n",
        "* Let's run it for a larger number of epochs and see if it does better"
      ],
      "metadata": {
        "id": "H7lPSEtJHWQr"
      }
    },
    {
      "cell_type": "code",
      "source": [
        "model.fit(X_train,y_train, epochs=10000, batch_size=32, verbose=0)\n",
        "trainPredict = model.predict(X_train)\n",
        "testPredict= model.predict(X_test)\n",
        "predicted=np.concatenate((trainPredict,testPredict),axis=0)\n",
        "trainScore = model.evaluate(X_train, y_train, verbose=0)\n",
        "testScore = model.evaluate(X_test,y_test,verbose=2)\n",
        "print(trainScore)\n",
        "print(testScore)\n",
        "print(model.predict(X_test)[:3])\n",
        "print(X_test[:3])"
      ],
      "metadata": {
        "id": "6Bj_yXks5oZn"
      },
      "execution_count": null,
      "outputs": []
    }
  ]
}